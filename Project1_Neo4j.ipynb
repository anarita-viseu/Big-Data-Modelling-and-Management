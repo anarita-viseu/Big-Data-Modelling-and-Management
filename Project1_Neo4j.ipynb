{
 "cells": [
  {
   "cell_type": "markdown",
   "metadata": {},
   "source": [
    "# Big Data Modeling and Management Assigment - Homework 1"
   ]
  },
  {
   "cell_type": "markdown",
   "metadata": {},
   "source": [
    "## 🍺 The Beer project  🍺 \n",
    "\n",
    "As it was shown in classes, graph databases are a natural way of navegating distinct types of data. For this first project we will be taking a graph database to analyse beer and breweries!   \n",
    "\n",
    "_For reference the dataset used for this project has been extracted from [kaggle](https://www.kaggle.com/ehallmar/beers-breweries-and-beer-reviews), released by Evan Hallmark. Even though the author does not present metada on the origin of the data it is probably a collection of open data from places like [beeradvocate](https://www.beeradvocate.com/)_.\n",
    "\n",
    "### Problem description\n",
    "\n",
    "Explore the database via python neo4j connector and/or the graphical tool in the NEO4J webpage. Answer the questions. Submit the results by following the instructions\n",
    "\n",
    "\n",
    "### Questions\n",
    "\n",
    "1. How many different countries exist in the database?\n",
    "1. Most reviews:  \n",
    "    1. Which `Beer` has the most reviews?  \n",
    "    1. Which `Brewery` has the most reviews for its beers? [Hint: 3-node path]\n",
    "    1. Which `Country` has the most reviews for its beers? [Hint: 5-node path]\n",
    "1. Find the user/users that have the most shared reviews (reviews of the same beers) with the user CTJman?\n",
    "1. Which Portuguese brewery has the most beers?\n",
    "1. From those beers (the ones returned from the previous question), which has the most reviews?\n",
    "1. On average how many different beer styles does each brewery produce?\n",
    "1. Which brewery produces the strongest beers according to ABV? [Hint: database has NaN values]\n",
    "1. If I typically enjoy a beer due to its aroma and appearance, which beer style should I try? (Justify your answer well!) [Hint: database has NaN values]\n",
    "1. Using Graph Algorithms answer **one** of the following questions: [Hint: make sure to clear the graph before using it again]\n",
    "    1. Which two countries are most similiar when it comes to their **top 10** most produced Beer styles?\n",
    "    2. Which beer is the most influential when considering beers are conected by users who review them? [Please use limit of 1000 on beer-review-user path]]\n",
    "    3. Users are connected together by their reviews to beers, taking into consideration the \"overall\" score they review as a weight, how many communities are formed from these relationships? How many users has the biggest community? [Please use limit of 1000 on beer-review-user path]]\n",
    "1. Using Graph Algorithms answer **one** of the following questions:\n",
    "    1. Which beer has the most similar reviews as the beer `Super Bock Stout`? [Hint:inspect two subsets: with and without the beer in question]\n",
    "    2. Which user is the most influential when it comes to reviews made?\n",
    "1. If you had to pick 3 beers to recommend using only this database, which would you pick and why? (Justify your answer well!) [Hint: database has NaN values]\n",
    "\n",
    "\n",
    "Questions 8 to 10 are somewhat open, which means we'll also be evaluating the reasoning behind your answer. So there aren't necessarily bad results there are only wrong criteria, explanations or execution. \n",
    " \n",
    "### Groups  \n",
    "\n",
    "Groups should have 4 to 5 people.\n",
    "You should register your group on **moodle**.\n",
    "\n",
    "### Submission      \n",
    "\n",
    "The code used to produce the results and respective explations should be uploaded to moodle. They should have a clear reference to the group, either on the file name or on the document itself. Preferably one Jupyter notebook per group.\n",
    "\n",
    "Delivery date: Until the **midnight of March 13**\n",
    "\n",
    "### Evaluation   \n",
    "\n",
    "This will be 20% of the final grade.   \n",
    "Each solution will be evaluated on 2 components: correctness of results and simplicity of the solution.  \n",
    "All code will go through plagiarism automated checks. Groups with the same code will undergo investigation."
   ]
  },
  {
   "cell_type": "markdown",
   "metadata": {},
   "source": [
    "## Loading the Database\n",
    "\n",
    "#### Be sure that you **don't have** the neo4j docker container from the classes running (you can Stop it in the desktop app or with the command \"`docker stop Neo4JLab`\")\n",
    "\n",
    "\n",
    "The default container does not have any data whatsoever, we will have to load a database into our docker image:\n",
    "- Download and unzip the `Neo4JHWData` file provided in Moodle.\n",
    "- Copy the path of the `Neo4JHWData` folder of the unziped file, e.g. `C:/Users/nunoa/Desktop/Aulas/Big Data Management and Modelling/2023/HW1/Neo4JHWData/data`.\n",
    "- Download and unzip the `Neo4JPlugins` file provided in Moodle.\n",
    "- Copy the path of the `Neo4JPlugins` folder of the unziped file, e.g. `C:/Users/nunoa/Desktop/Aulas/Big Data Management and Modelling/2023/Neo4Jplugins`.\n",
    "- Change the code bellow accordingly. As you might have noticed, you do not have a user called `nunoa`, please use the appropriate path that you got from the previous step. Be sure that you have a neo4j docker container running: \\\n",
    "\n",
    "`docker run --name Neo4JHW -p 7474:7474 -p 7687:7687 -d -v \"C:\\Users\\anari\\OneDrive - NOVAIMS\\Desktop\\DSAA-BA\\Year1\\Semester2\\Big Data Modelling and Management\\HW1\\Neo4JPlugins:/plugins\" -v \"C:\\Users\\anari\\OneDrive - NOVAIMS\\Desktop\\DSAA-BA\\Year1\\Semester2\\Big Data Modelling and Management\\HW1\\Neo4JHWData/data:/data\" --env NEO4J_AUTH=neo4j/test --env NEO4J_dbms_connector_https_advertised__address=\"localhost:7473\" --env NEO4J_dbms_connector_http_advertised__address=\"localhost:7474\" --env NEO4J_dbms_connector_bolt_advertised__address=\"localhost:7687\" --env NEO4J_dbms_security_procedures_unrestricted=gds.* --env NEO4J_dbms_security_procedures_allowlist=gds.* neo4j`\n",
    "\n",
    "- Since Neo4j is trying to recognize a new database folder, this might take a bit (let's say 3 minutes), so don't worry.\n",
    "\n",
    "`docker run --name Neo4JHW -p 7474:7474 -p 7687:7687 -d -v \"C:\\Users\\anari\\OneDrive - NOVAIMS\\Desktop\\DSAA-BA\\Year1\\Semester2\\Big Data Modelling and Management\\HW1\\Neo4JPlugins:/plugins\" -v \"C:\\Users\\anari\\OneDrive - NOVAIMS\\Desktop\\DSAA-BA\\Year1\\Semester2\\Big Data Modelling and Management\\HW1\\Neo4JHWData/data:/data\" --env NEO4J_AUTH=neo4j/test --env NEO4J_dbms_connector_https_advertised__address=\"localhost:7473\" --env NEO4J_dbms_connector_http_advertised__address=\"localhost:7474\" --env NEO4J_dbms_connector_bolt_advertised__address=\"localhost:7687\" --env NEO4J_dbms_security_procedures_unrestricted=\"gds.*\" --env NEO4J_dbms_security_procedures_allowlist=\"gds.*\" neo4j:4.4.5`"
   ]
  },
  {
   "cell_type": "code",
   "execution_count": 1,
   "metadata": {},
   "outputs": [],
   "source": [
    "from neo4j import GraphDatabase\n",
    "from pprint import pprint"
   ]
  },
  {
   "cell_type": "code",
   "execution_count": 2,
   "metadata": {},
   "outputs": [],
   "source": [
    "NEO4J_URI=\"neo4j://localhost:7687\"\n",
    "NEO4J_USERNAME=\"neo4j\"\n",
    "NEO4J_PASSWORD=\"test\""
   ]
  },
  {
   "cell_type": "code",
   "execution_count": 3,
   "metadata": {},
   "outputs": [],
   "source": [
    "driver = GraphDatabase.driver(NEO4J_URI, auth=(NEO4J_USERNAME, NEO4J_PASSWORD), )"
   ]
  },
  {
   "cell_type": "markdown",
   "metadata": {},
   "source": [
    "### All The Functions you'll need to run queries in Neo4J"
   ]
  },
  {
   "cell_type": "code",
   "execution_count": 4,
   "metadata": {},
   "outputs": [],
   "source": [
    "def execute_read(driver, query):    \n",
    "    with driver.session(database=\"neo4j\") as session:\n",
    "        result = session.execute_read(lambda tx, query: list(tx.run(query)), query)\n",
    "    return result"
   ]
  },
  {
   "cell_type": "markdown",
   "metadata": {},
   "source": [
    "### Understanding the Database"
   ]
  },
  {
   "cell_type": "code",
   "execution_count": 5,
   "metadata": {},
   "outputs": [
    {
     "name": "stdout",
     "output_type": "stream",
     "text": [
      "[<Record label='COUNTRIES'>,\n",
      " <Record label='CITIES'>,\n",
      " <Record label='BREWERIES'>,\n",
      " <Record label='BEERS'>,\n",
      " <Record label='REVIEWS'>,\n",
      " <Record label='STYLE'>,\n",
      " <Record label='USER'>]\n"
     ]
    }
   ],
   "source": [
    "query = \"\"\"\n",
    "        call db.labels();\n",
    "    \"\"\"\n",
    "\n",
    "result = execute_read(driver, query)\n",
    "\n",
    "pprint(result)"
   ]
  },
  {
   "cell_type": "code",
   "execution_count": 6,
   "metadata": {},
   "outputs": [
    {
     "name": "stdout",
     "output_type": "stream",
     "text": [
      "[<Record relationshipType='REVIEWED'>,\n",
      " <Record relationshipType='BREWED'>,\n",
      " <Record relationshipType='IN'>,\n",
      " <Record relationshipType='HAS_STYLE'>,\n",
      " <Record relationshipType='POSTED'>]\n"
     ]
    }
   ],
   "source": [
    "query = \"\"\"\n",
    "        CALL db.relationshipTypes();\n",
    "    \"\"\"\n",
    "\n",
    "result = execute_read(driver, query)\n",
    "\n",
    "pprint(result)"
   ]
  },
  {
   "cell_type": "markdown",
   "metadata": {},
   "source": [
    "# Submission\n",
    "\n",
    "GROUP NUMBER:\n",
    "\n",
    "**24**\n",
    "\n",
    "GROUP MEMBERS:\n",
    "\n",
    "|STUDENT NUMBER|STUDENT NAME|\n",
    "|---|---|\n",
    "|Ana Miguel Monteiro|20221645|\n",
    "|Ana Rita Viseu|20220703|\n",
    "|Ana Sofia Mendonça|20220678|\n",
    "|Sara Galguinho|20220682|\n",
    "|Susana Dias|20220198|"
   ]
  },
  {
   "cell_type": "markdown",
   "metadata": {},
   "source": [
    "#### 1. How many different countries exist in the database?"
   ]
  },
  {
   "cell_type": "code",
   "execution_count": 7,
   "metadata": {},
   "outputs": [
    {
     "name": "stdout",
     "output_type": "stream",
     "text": [
      "[<Record count(c)=200>]\n"
     ]
    }
   ],
   "source": [
    "# Counting the number of nodes of COUNTRIES label\n",
    "query = \"\"\"\n",
    "        MATCH (c:COUNTRIES)\n",
    "        RETURN count(c)\n",
    "    \"\"\"\n",
    "\n",
    "result = execute_read(driver, query)\n",
    "pprint(result)"
   ]
  },
  {
   "cell_type": "markdown",
   "metadata": {},
   "source": [
    "There are 200 different countries in the database."
   ]
  },
  {
   "cell_type": "markdown",
   "metadata": {},
   "source": [
    "#### 2. Most reviews:  \n",
    "    A) Which `Beer` has the most reviews?  \n",
    "    B) Which `Brewery` has the most reviews for its beers?\n",
    "    C) Which `Country` has the most reviews for its beers? "
   ]
  },
  {
   "cell_type": "code",
   "execution_count": 8,
   "metadata": {},
   "outputs": [
    {
     "name": "stdout",
     "output_type": "stream",
     "text": [
      "[<Record b.name='IPA' number_reviews=31387>,\n",
      " <Record b.name='Porter' number_reviews=21069>]\n"
     ]
    }
   ],
   "source": [
    "# A) Which `Beer` has the most reviews?\n",
    "\n",
    "# Matching beers to reviews.\n",
    "# Counting the number of relationships each node of label BEERS has with node label REVIEWS in order to get how many reviews\n",
    "# each beer has.\n",
    "# Ordering by the number of reviews in descending order.\n",
    "# Showing the first 2 records in case there's more than one beer with the most reviews.\n",
    "\n",
    "query = \"\"\"\n",
    "        MATCH (b:BEERS)-[]->(r:REVIEWS)\n",
    "        RETURN b.name, count(*) AS number_reviews\n",
    "        ORDER BY number_reviews DESC\n",
    "        LIMIT 2\n",
    "    \"\"\" \n",
    "\n",
    "result = execute_read(driver, query)\n",
    "pprint(result)"
   ]
  },
  {
   "cell_type": "markdown",
   "metadata": {},
   "source": [
    "The Beer with the most reviews is \"IPA\", with 31387 reviews."
   ]
  },
  {
   "cell_type": "code",
   "execution_count": 9,
   "metadata": {},
   "outputs": [
    {
     "name": "stdout",
     "output_type": "stream",
     "text": [
      "[<Record id(br)=25463 br.name='Sierra Nevada Brewing Co.' number_reviews=175161>,\n",
      " <Record id(br)=55933 br.name='Stone Brewing' number_reviews=173282>]\n"
     ]
    }
   ],
   "source": [
    "# B) Which `Brewery` has the most reviews for its beers?\n",
    "\n",
    "# Using a 3-node path to connect breweries to reviews.\n",
    "# Counting how many total reviews the beers from each brewery have and ordering them in descending order.\n",
    "# The function id() retrieves the unique id of the nodes.\n",
    "\n",
    "query = \"\"\"\n",
    "        MATCH (br:BREWERIES)-[]->(b:BEERS)-[]->(r:REVIEWS)\n",
    "        RETURN id(br), br.name, count(*) AS number_reviews\n",
    "        ORDER BY number_reviews DESC\n",
    "        LIMIT 2\n",
    "    \"\"\"\n",
    "\n",
    "result = execute_read(driver, query)\n",
    "pprint(result)"
   ]
  },
  {
   "cell_type": "markdown",
   "metadata": {},
   "source": [
    "The Brewery with the most reviews for its beers is \"Sierra Nevada Brewing Co.\", with 175161 reviews."
   ]
  },
  {
   "cell_type": "code",
   "execution_count": 10,
   "metadata": {},
   "outputs": [
    {
     "name": "stdout",
     "output_type": "stream",
     "text": [
      "[<Record id(c)=1 c.name='US' number_reviews=7675804>,\n",
      " <Record id(c)=2 c.name='GB' number_reviews=727565>]\n"
     ]
    }
   ],
   "source": [
    "# C) Which `Country` has the most reviews for its beers?\n",
    "\n",
    "# Using a 5-node path to connect countries to reviews.\n",
    "# Counting how many total reviews the beers from each country have and ordering them in descending order.\n",
    "\n",
    "query = \"\"\"\n",
    "        MATCH (c:COUNTRIES)<-[]-(ci:CITIES)<-[]-(br:BREWERIES)-[]->(b:BEERS)-[]->(r:REVIEWS)\n",
    "        RETURN id(c), c.name, count(*) AS number_reviews\n",
    "        ORDER BY number_reviews DESC\n",
    "        LIMIT 2\n",
    "    \"\"\"\n",
    "\n",
    "result = execute_read(driver, query)\n",
    "pprint(result)"
   ]
  },
  {
   "cell_type": "markdown",
   "metadata": {},
   "source": [
    "The Country with the most reviews for its beers is United States, with 7675804 reviews."
   ]
  },
  {
   "cell_type": "markdown",
   "metadata": {},
   "source": [
    "#### 3. Find the user/users that have the most shared reviews (reviews of the same beers) with the user CTJman?"
   ]
  },
  {
   "cell_type": "code",
   "execution_count": 11,
   "metadata": {},
   "outputs": [
    {
     "name": "stdout",
     "output_type": "stream",
     "text": [
      "[<Record id(u2)=9494459 u2.name='acurtis' shared_reviews=1428>,\n",
      " <Record id(u2)=9494682 u2.name='Texasfan549' shared_reviews=1257>]\n"
     ]
    }
   ],
   "source": [
    "# Using a 5-node path to connect user \"CTJman\" to other users (considering users are connected by their reviews to beers).\n",
    "# Counting the total number of reviews of the same beers (beers with the same id) each user has with \"CTJman\" and ordering by\n",
    "# that number in descending order.\n",
    "\n",
    "query = \"\"\"\n",
    "        MATCH (u1:USER{name:'CTJman'})<-[]-(r1:REVIEWS)<-[]-(b:BEERS)-[]->(r2:REVIEWS)-[]->(u2:USER)\n",
    "        WHERE u2 <> u1\n",
    "        RETURN id(u2), u2.name, count(id(b)) AS shared_reviews\n",
    "        ORDER BY shared_reviews DESC\n",
    "        LIMIT 2\n",
    "    \"\"\"\n",
    "\n",
    "result = execute_read(driver, query)\n",
    "pprint(result)"
   ]
  },
  {
   "cell_type": "markdown",
   "metadata": {},
   "source": [
    "The user that has the most shared reviews (reviews of the same beers) with \"CTJman\" is the user \"acurtis\", with 1428 shared reviews."
   ]
  },
  {
   "cell_type": "markdown",
   "metadata": {},
   "source": [
    "#### 4. Which Portuguese brewery has the most beers?\n"
   ]
  },
  {
   "cell_type": "code",
   "execution_count": 12,
   "metadata": {},
   "outputs": [
    {
     "name": "stdout",
     "output_type": "stream",
     "text": [
      "[<Record id(br)=27838 Brewery='Dois Corvos Cervejeira' number_beers=40>,\n",
      " <Record id(br)=29296 Brewery='Unicer União Cervejeira S.A.' number_beers=22>]\n"
     ]
    }
   ],
   "source": [
    "# Selecting Portugal using its code (\"PT\"), and connecting it to BEERS through CITIES and BREWERIES (4-node path).\n",
    "# Counting the total number of beers each portuguese brewery has.\n",
    "# Ordering by number of beers in descending order.\n",
    "\n",
    "query = \"\"\"\n",
    "        MATCH (c:COUNTRIES{name:\"PT\"})<-[]-(l:CITIES)<-[]-(br:BREWERIES)-[]->(b:BEERS)\n",
    "        RETURN id(br), br.name as Brewery, count(*) as number_beers\n",
    "        ORDER BY number_beers DESC\n",
    "        LIMIT 2\n",
    "    \"\"\"\n",
    "\n",
    "result = execute_read(driver, query)\n",
    "pprint(result)"
   ]
  },
  {
   "cell_type": "markdown",
   "metadata": {},
   "source": [
    "The Portuguese brewery that has the most beers is \"Dois Corvos Cervejeira\", with 40 different beers."
   ]
  },
  {
   "cell_type": "markdown",
   "metadata": {},
   "source": [
    "#### 5. From those beers (the ones produced in the brewery from the previous question), which has the most reviews?\n"
   ]
  },
  {
   "cell_type": "code",
   "execution_count": 13,
   "metadata": {},
   "outputs": [
    {
     "name": "stdout",
     "output_type": "stream",
     "text": [
      "[<Record beer.id='216709' beer.name='Finisterra' number_reviews=10>,\n",
      " <Record beer.id='216706' beer.name='Matiné' number_reviews=6>]\n"
     ]
    }
   ],
   "source": [
    "# Using a 3-node path to connect the node of label \"Dois Corvos Cervejeira\" brewery to Reviews.\n",
    "# Counting how many total Reviews each beer from the \"Dois Corvos Cervejeira\" brewery has.\n",
    "# Ordering by the number of reviews in descending order.\n",
    "\n",
    "query = \"\"\"\n",
    "        MATCH (br:BREWERIES{name:\"Dois Corvos Cervejeira\"})-[]->(beer:BEERS)-[]->(r:REVIEWS)\n",
    "        RETURN beer.id, beer.name, count(*) as number_reviews\n",
    "        ORDER BY number_reviews DESC\n",
    "        LIMIT 2\n",
    "        \"\"\"\n",
    "\n",
    "\n",
    "result = execute_read(driver, query)\n",
    "pprint(result)"
   ]
  },
  {
   "cell_type": "markdown",
   "metadata": {},
   "source": [
    "The beer from the brewery \"Dois Corvos Cervejeira\" that has the most reviews is \"Finisterra\", with 10 reviews."
   ]
  },
  {
   "cell_type": "markdown",
   "metadata": {},
   "source": [
    "#### 6. On average how many different beer styles does each brewery produce?"
   ]
  },
  {
   "cell_type": "code",
   "execution_count": 14,
   "metadata": {},
   "outputs": [
    {
     "name": "stdout",
     "output_type": "stream",
     "text": [
      "[<Record round(AVG(number_styles),1)=10.6>]\n"
     ]
    }
   ],
   "source": [
    "# Using a 3-node path to connect the node label BREWERIES to REVIEWS through BEERS.\n",
    "# Counting, using the DISTINCT operator how many different styles of beers each brewery produces. \n",
    "# Getting the rounded average of how many different beer styles each brewery produces to 1 decimal place.\n",
    "\n",
    "query = \"\"\"\n",
    "        MATCH (br:BREWERIES)-[]->(b:BEERS)-[]->(s:STYLE)\n",
    "        WITH br, count(DISTINCT s.name) as number_styles\n",
    "        RETURN round(AVG(number_styles),1)\n",
    "        \"\"\"\n",
    "\n",
    "result = execute_read(driver, query)\n",
    "pprint(result)"
   ]
  },
  {
   "cell_type": "markdown",
   "metadata": {},
   "source": [
    "On average, each brewery produces 11 different beer styles."
   ]
  },
  {
   "cell_type": "markdown",
   "metadata": {},
   "source": [
    "#### 7. Which brewery produces the strongest beers according to ABV?"
   ]
  },
  {
   "cell_type": "code",
   "execution_count": 15,
   "metadata": {},
   "outputs": [
    {
     "name": "stdout",
     "output_type": "stream",
     "text": [
      "[<Record id(br)=16084 breweryName='Avondale Brewing Co.' maxAbv=100.0>,\n",
      " <Record id(br)=31123 breweryName='1648 Brewing Company Ltd' maxAbv=100.0>,\n",
      " <Record id(br)=59088 breweryName='Morgan Territory Brewing' maxAbv=80.0>]\n"
     ]
    }
   ],
   "source": [
    "# Using a 2-node path to connect the node label BREWERIES to BEERS.\n",
    "# Since there are missing values that can be actual null or \"nan\" values as a string, we use the IS NOT NULL \n",
    "# operator and the toFloat() function. This function will convert the \"abv\" property key values to a Float and if they\n",
    "# cannot be converted to a float, the function will return null.\n",
    "# After converting the abv property to a float, we filter the beers that are not null.\n",
    "# Then, we get the beer with maximum ABV in each brewery using the max() function.\n",
    "# Finally, we order the breweries by maximum ABV in descending order.\n",
    "\n",
    "query = \"\"\"\n",
    "        MATCH (br:BREWERIES)-[]->(b:BEERS) \n",
    "        WHERE toFloat(b.abv) IS NOT NULL\n",
    "        RETURN id(br), br.name AS breweryName, max(toFloat(b.abv)) AS maxAbv\n",
    "        ORDER BY maxAbv DESC\n",
    "        LIMIT 3\n",
    "        \"\"\"\n",
    "\n",
    "result = execute_read(driver, query)\n",
    "pprint(result)"
   ]
  },
  {
   "cell_type": "markdown",
   "metadata": {},
   "source": [
    "According to ABV, \"Avondale Brewing Co.\" and \"1648 Brewing Company Ltd\" produce the strongest beers."
   ]
  },
  {
   "cell_type": "markdown",
   "metadata": {},
   "source": [
    "#### 8. If I typically enjoy a beer due to its aroma and appearance, which beer style should I try?"
   ]
  },
  {
   "cell_type": "code",
   "execution_count": 16,
   "metadata": {},
   "outputs": [
    {
     "name": "stdout",
     "output_type": "stream",
     "text": [
      "[<Record id(s)=9494316 beer_style='New England IPA' avg_smell=4.41 avg_look=4.38>,\n",
      " <Record id(s)=9494216 beer_style='American Imperial Stout' avg_smell=4.26 avg_look=4.29>]\n"
     ]
    }
   ],
   "source": [
    "# Using a 3-node path to match Style to Reviews through Beers.\n",
    "# Coverting the property keys \"smell\" and \"look\" to a float and filtering the ones that are not null (because there are missing\n",
    "# values).\n",
    "# Getting the average score in \"smell\" and \"look\" each beer style has and ordering them in descending order.\n",
    "\n",
    "query = \"\"\"\n",
    "        MATCH (s:STYLE)<-[]-(b:BEERS)-[]->(r:REVIEWS)\n",
    "        WHERE toFloat(r.smell) IS NOT NULL AND toFloat(r.look) IS NOT NULL\n",
    "        RETURN id(s), s.name AS beer_style, round(AVG(toFloat(r.smell)),2) AS avg_smell, round(AVG(toFloat(r.look)),2) AS avg_look\n",
    "        ORDER BY avg_smell DESC, avg_look DESC\n",
    "        LIMIT 2\n",
    "    \"\"\"\n",
    "\n",
    "result = execute_read(driver, query)\n",
    "pprint(result)"
   ]
  },
  {
   "cell_type": "markdown",
   "metadata": {},
   "source": [
    "If a person typically enjoys a beer due to its aroma and appearance, they should try the beer style \"New England IPA\" because it's the beer style that has the best average score in smell and look."
   ]
  },
  {
   "cell_type": "markdown",
   "metadata": {},
   "source": [
    "#### 9. Using Graph Algorithms answer **one** of the following questions:\n",
    "    1. Which two countries are most similiar when it comes to their **top 10** most produced Beer styles?\n",
    "    2. Which beer is the most influential when considering beers are conected by users who review them?\n",
    "    3. Users are connected together by their reviews to beers, taking into consideration the \"overall\" score they review as a weight, how many communities are formed from these relationships? How many users has the biggest community?"
   ]
  },
  {
   "cell_type": "code",
   "execution_count": 17,
   "metadata": {},
   "outputs": [
    {
     "name": "stdout",
     "output_type": "stream",
     "text": [
      "[<Record graphName='question_9_1'>]\n"
     ]
    }
   ],
   "source": [
    "# QUESTION 9.1: Which two countries are most similiar when it comes to their **top 10** most produced Beer styles?\n",
    "\n",
    "# Step 0 - Clearing graph\n",
    "# Dropping any previously created graph with the name \"question_9_1\" (graph names need to be unique).\n",
    "\n",
    "try:\n",
    "    query = \"\"\"\n",
    "            CALL gds.graph.drop('question_9_1') YIELD graphName;\n",
    "        \"\"\"\n",
    "\n",
    "    result = execute_read(driver, query)\n",
    "\n",
    "    pprint(result)\n",
    "except Exception as e:\n",
    "    pprint(e)"
   ]
  },
  {
   "cell_type": "code",
   "execution_count": 18,
   "metadata": {},
   "outputs": [
    {
     "name": "stdout",
     "output_type": "stream",
     "text": [
      "[<Record nodeQuery='MATCH (c:COUNTRIES) RETURN id(c) AS id UNION ALL MATCH (s:STYLE) RETURN id(s) AS id' relationshipQuery='MATCH (c:COUNTRIES)<-[]-(city:CITIES)<-[]-(br:BREWERIES)-[]->(b:BEERS)-[]->(s:STYLE)\\n            WITH c, s, COUNT(*) AS freq\\n            ORDER BY freq DESC\\n            WITH c, COLLECT(s)[..10] AS top10\\n            UNWIND top10 AS top10_styles\\n            RETURN id(c) AS source, id(top10_styles) AS target' graphName='question_9_1' nodeCount=313 relationshipCount=1418 projectMillis=10261>]\n"
     ]
    }
   ],
   "source": [
    "# Step 1 - Creating a graph\n",
    "\n",
    "# Projecting the nodes COUNTRIES and STYLE.\n",
    "# Connecting Countries to Style through a 5-node path.\n",
    "# Counting the frequency of each beer style (stored in variable 'freq').\n",
    "# Ordering the beer styles by their frequency in descending order.\n",
    "# Creating a list containing the top 10 beer styles, using COLLECT.\n",
    "# Using the UNWIND clause to expand the previous list into a sequence of rows.\n",
    "# Returning pairs of nodes representing the country and the top 10 beer styles produced in that country.\n",
    "\n",
    "try:\n",
    "    query = \"\"\"\n",
    "        CALL gds.graph.project.cypher(\n",
    "            'question_9_1',\n",
    "            \"MATCH (c:COUNTRIES) RETURN id(c) AS id UNION ALL MATCH (s:STYLE) RETURN id(s) AS id\",\n",
    "            \"MATCH (c:COUNTRIES)<-[]-(city:CITIES)<-[]-(br:BREWERIES)-[]->(b:BEERS)-[]->(s:STYLE)\n",
    "            WITH c, s, COUNT(*) AS freq\n",
    "            ORDER BY freq DESC\n",
    "            WITH c, COLLECT(s)[..10] AS top10\n",
    "            UNWIND top10 AS top10_styles\n",
    "            RETURN id(c) AS source, id(top10_styles) AS target\n",
    "            \"\n",
    "            )\n",
    "        \"\"\"\n",
    "\n",
    "    result = execute_read(driver, query)\n",
    "\n",
    "    pprint(result)\n",
    "except Exception as e:\n",
    "    pprint(e)"
   ]
  },
  {
   "cell_type": "code",
   "execution_count": 19,
   "metadata": {},
   "outputs": [
    {
     "name": "stdout",
     "output_type": "stream",
     "text": [
      "[<Record Country1='AU' Country2='NZ' similarity=1.0>]\n"
     ]
    }
   ],
   "source": [
    "# Step 2 - Running the algorithm\n",
    "\n",
    "# Using the Node Similarity algorithm to calculate the similarity between each pair of country nodes.\n",
    "# Returning the pairs of country nodes and their respective similarity.\n",
    "# Ordering by similarity in descending order to get the countries with the highest similarity.\n",
    "\n",
    "try:\n",
    "    query = \"\"\"\n",
    "        CALL gds.nodeSimilarity.stream('question_9_1')\n",
    "            YIELD node1, node2, similarity\n",
    "            RETURN gds.util.asNode(node1).name AS Country1, gds.util.asNode(node2).name AS Country2, similarity AS similarity\n",
    "            ORDER BY similarity DESC\n",
    "            LIMIT 1\n",
    "        \"\"\"\n",
    "\n",
    "    result = execute_read(driver, query)\n",
    "\n",
    "    pprint(result)\n",
    "except Exception as e:\n",
    "    pprint(e)"
   ]
  },
  {
   "cell_type": "markdown",
   "metadata": {},
   "source": [
    "The two countries that are most similiar when it comes to their top 10 most produced beer styles are Australia and New Zealand."
   ]
  },
  {
   "cell_type": "markdown",
   "metadata": {},
   "source": [
    "#### 10. Using Graph Algorithms answer **one** of the following questions:\n",
    "    1. Which beer has the most similar reviews as the beer `Super Bock Stout`?\n",
    "    2. Which user is the most influential when it comes to reviews made?"
   ]
  },
  {
   "cell_type": "code",
   "execution_count": 20,
   "metadata": {},
   "outputs": [
    {
     "name": "stdout",
     "output_type": "stream",
     "text": [
      "[<Record graphName='question_10_2'>]\n"
     ]
    }
   ],
   "source": [
    "# QUESTION 10.2: Which user is the most influential when it comes to reviews made?\n",
    "\n",
    "# Step 0 - Clearing graph\n",
    "# Dropping any previously created graph with the name \"question_10_2\" (graph names need to be unique).\n",
    "\n",
    "try:\n",
    "    query = \"\"\"\n",
    "            CALL gds.graph.drop('question_10_2') YIELD graphName;\n",
    "        \"\"\"\n",
    "\n",
    "    result = execute_read(driver, query)\n",
    "\n",
    "    pprint(result)\n",
    "except Exception as e:\n",
    "    pprint(e)"
   ]
  },
  {
   "cell_type": "code",
   "execution_count": 21,
   "metadata": {},
   "outputs": [
    {
     "name": "stdout",
     "output_type": "stream",
     "text": [
      "[<Record nodeQuery='MATCH (u:USER) RETURN id(u) AS id UNION ALL MATCH (r:REVIEWS) RETURN id(r) AS id' relationshipQuery='MATCH (u:USER)<-[]-(r:REVIEWS) RETURN id(r) AS source, id(u) AS target' graphName='question_10_2' nodeCount=9238063 relationshipCount=9073109 projectMillis=53793>]\n"
     ]
    }
   ],
   "source": [
    "# Step 1 - Creating a graph\n",
    "\n",
    "# Projecting the nodes USER and REVIEWS.\n",
    "# Connecting Users to Reviews.\n",
    "# Returning the id of the review as the source and the id of the user as the target\n",
    "\n",
    "try:\n",
    "    query = \"\"\"\n",
    "        CALL gds.graph.project.cypher(\n",
    "            'question_10_2',\n",
    "            \"MATCH (u:USER) RETURN id(u) AS id UNION ALL MATCH (r:REVIEWS) RETURN id(r) AS id\",\n",
    "            \"MATCH (u:USER)<-[]-(r:REVIEWS) RETURN id(r) AS source, id(u) AS target\"\n",
    "            )\n",
    "        \"\"\"\n",
    "\n",
    "    result = execute_read(driver, query)\n",
    "\n",
    "    pprint(result)\n",
    "except Exception as e:\n",
    "    pprint(e)"
   ]
  },
  {
   "cell_type": "code",
   "execution_count": 22,
   "metadata": {},
   "outputs": [
    {
     "name": "stdout",
     "output_type": "stream",
     "text": [
      "[<Record user='Sammy' score=1759.2675000004458>]\n"
     ]
    }
   ],
   "source": [
    "# Step 2 - Running the algorithm\n",
    "\n",
    "# Using the PageRank algorithm to calculate the score for each node.\n",
    "# Returning the user and their respective score.\n",
    "# Ordering the users by their score in descending order.\n",
    "\n",
    "try:\n",
    "    query = \"\"\"\n",
    "        CALL gds.pageRank.stream('question_10_2')\n",
    "            YIELD nodeId, score\n",
    "            RETURN gds.util.asNode(nodeId).name AS user, score\n",
    "            ORDER BY score DESC\n",
    "            LIMIT 1\n",
    "        \"\"\"\n",
    "\n",
    "    result = execute_read(driver, query)\n",
    "\n",
    "    pprint(result)\n",
    "except Exception as e:\n",
    "    pprint(e)"
   ]
  },
  {
   "cell_type": "markdown",
   "metadata": {},
   "source": [
    "The most influential user when it comes to reviews made is \"Sammy\"."
   ]
  },
  {
   "cell_type": "markdown",
   "metadata": {},
   "source": [
    "#### 11. If you had to pick 3 beers to recommend using only this database, which would you pick and why?"
   ]
  },
  {
   "cell_type": "code",
   "execution_count": 23,
   "metadata": {},
   "outputs": [
    {
     "name": "stdout",
     "output_type": "stream",
     "text": [
      "[<Record beer_name='Dreadnought' avg_score=5.0 avg_overall=5.0 avg_characteristics=5.0 year='2014'>,\n",
      " <Record beer_name='Crimson King' avg_score=5.0 avg_overall=5.0 avg_characteristics=5.0 year='2016'>,\n",
      " <Record beer_name='Skullville Jalapeño Pale Ale' avg_score=5.0 avg_overall=5.0 avg_characteristics=5.0 year='2018'>]\n"
     ]
    }
   ],
   "source": [
    "# To answer this question, we considered the reviews made to each beer.\n",
    "# Because older reviews can be outdated, we only consider the reviews starting from 2013.\n",
    "# Then we considered the average sum of taste, feel, smell and look each beer has, as well as the average score and overall.\n",
    "\n",
    "# Steps:\n",
    "# 1. Connecting Beers to Reviews.\n",
    "# 2. Because there are missing values in many of the properties of node label REVIEWS, first we convert the properties \"score\",\n",
    "#    \"overall\", \"taste\", \"feel\", \"smell\" and \"look\" to floats using the toFloat function. Then we filter the reviews where these\n",
    "#    properties aren't null values using the IS NOT NULL operator.\n",
    "#    We also filter the reviews without null values in \"date\" and where the year is higher than 2013 (we extract the year of the\n",
    "#    review using the substring function). We only considered the reviews posted after 2013 because they would be more relevant\n",
    "#    than reviews posted a long time ago.\n",
    "#    Finally, we filter the beers that are still produced (b.retired='f') and that are available all year round.\n",
    "# 3. Calculating the rounded average of \"score\", \"overall\", average of \"taste\", \"feel\", \"smell\" and \"look\" and storing it in\n",
    "#    the variable \"average characteristics\".\n",
    "# 4. Ordering the beers by their average charactheristics, average score and average overall in descending order.\n",
    "\n",
    "query = \"\"\"\n",
    "        MATCH (b:BEERS)-[]->(r:REVIEWS)\n",
    "        \n",
    "        WHERE toFloat(r.score) IS NOT NULL AND toFloat(r.overall) IS NOT NULL AND toFloat(r.taste) IS NOT NULL AND \n",
    "        toFloat(r.feel) IS NOT NULL AND toFloat(r.smell) IS NOT NULL AND toFloat(r.look) IS NOT NULL AND r.date IS NOT NULL\n",
    "        AND substring(r.date, 0, 4)>'2013' AND b.retired='f' AND b.availability CONTAINS 'Year-round'\n",
    "        \n",
    "        RETURN b.name AS beer_name, AVG(toFloat(r.score)) AS avg_score, AVG(toFloat(r.overall)) AS avg_overall,\n",
    "        AVG((toFloat(r.taste) + toFloat(r.feel) + toFloat(r.smell) + toFloat(r.look))/4) AS avg_characteristics, \n",
    "        substring(r.date, 0, 4) AS year\n",
    "        \n",
    "        ORDER BY avg_characteristics DESC, avg_score DESC, avg_overall DESC\n",
    "        LIMIT 3\n",
    "    \"\"\"\n",
    "\n",
    "result = execute_read(driver, query)\n",
    "pprint(result)"
   ]
  },
  {
   "cell_type": "markdown",
   "metadata": {},
   "source": [
    "If we had to pick 3 beers to recommend using only this database, we would pick \"Atomic Pale Ale\", \"Crimson King\", and \"Dreadnought\"."
   ]
  }
 ],
 "metadata": {
  "hide_input": false,
  "kernelspec": {
   "display_name": "Python 3 (ipykernel)",
   "language": "python",
   "name": "python3"
  },
  "language_info": {
   "codemirror_mode": {
    "name": "ipython",
    "version": 3
   },
   "file_extension": ".py",
   "mimetype": "text/x-python",
   "name": "python",
   "nbconvert_exporter": "python",
   "pygments_lexer": "ipython3",
   "version": "3.9.16"
  },
  "toc": {
   "base_numbering": 1,
   "nav_menu": {},
   "number_sections": true,
   "sideBar": true,
   "skip_h1_title": false,
   "title_cell": "Table of Contents",
   "title_sidebar": "Contents",
   "toc_cell": false,
   "toc_position": {},
   "toc_section_display": true,
   "toc_window_display": false
  },
  "varInspector": {
   "cols": {
    "lenName": 16,
    "lenType": 16,
    "lenVar": 40
   },
   "kernels_config": {
    "python": {
     "delete_cmd_postfix": "",
     "delete_cmd_prefix": "del ",
     "library": "var_list.py",
     "varRefreshCmd": "print(var_dic_list())"
    },
    "r": {
     "delete_cmd_postfix": ") ",
     "delete_cmd_prefix": "rm(",
     "library": "var_list.r",
     "varRefreshCmd": "cat(var_dic_list()) "
    }
   },
   "types_to_exclude": [
    "module",
    "function",
    "builtin_function_or_method",
    "instance",
    "_Feature"
   ],
   "window_display": false
  }
 },
 "nbformat": 4,
 "nbformat_minor": 4
}
